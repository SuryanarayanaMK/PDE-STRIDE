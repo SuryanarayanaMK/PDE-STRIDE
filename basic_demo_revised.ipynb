{
 "cells": [
  {
   "cell_type": "markdown",
   "metadata": {},
   "source": [
    "This notebook demonstartes the steps in Stability-based model selection for learning PDEs from data (PDE-STRIDE)\n",
    "$$\n",
    "u_t + uu_x = 0.1u_{xx}\n",
    "$$\n",
    "In this demo notebook, we show stability selection in combination with three different sparsity promoters LASSO, STRidge and IHT with debiasing "
   ]
  },
  {
   "cell_type": "code",
   "execution_count": 1,
   "metadata": {},
   "outputs": [
    {
     "name": "stdout",
     "output_type": "stream",
     "text": [
      "Populating the interactive namespace from numpy and matplotlib\n"
     ]
    }
   ],
   "source": [
    "%pylab inline\n",
    "pylab.rcParams['figure.figsize'] = (12, 8)\n",
    "import numpy as np\n",
    "import math\n",
    "from mpl_toolkits.mplot3d import Axes3D\n",
    "#%matplotlib notebook\n",
    "from Iterative_solvers_l0_l1 import *\n",
    "import scipy.io as sio\n",
    "import itertools\n",
    "from operator import itemgetter, attrgetter\n",
    "import matplotlib.pyplot as plt\n",
    "from sklearn.linear_model import lars_path, enet_path, lasso_path\n",
    "from itertools import cycle\n",
    "\n",
    "import pandas as pd\n",
    "import numpy as np\n",
    "from sklearn import datasets, linear_model\n",
    "from sklearn.linear_model import LinearRegression\n",
    "\n",
    "import seaborn as sns\n",
    "c = sns.color_palette(\"Blues\",20)"
   ]
  },
  {
   "cell_type": "markdown",
   "metadata": {},
   "source": [
    "# Import data"
   ]
  },
  {
   "cell_type": "code",
   "execution_count": 2,
   "metadata": {},
   "outputs": [
    {
     "name": "stdout",
     "output_type": "stream",
     "text": [
      " shape of u  (256, 101)\n",
      " dt is  0.1  dx is  0.0625\n"
     ]
    }
   ],
   "source": [
    "X_APR    = loadtxt('Burgers/X_burgers.dat', dtype='double')\n",
    "T_APR    = loadtxt('Burgers/T_burgers.dat', dtype='double') \n",
    "data = sio.loadmat('Burgers/burgers.mat')\n",
    "u = real(data['usol'])\n",
    "dx = X_APR[1] - X_APR[0]\n",
    "dt = T_APR[1] - T_APR[0]\n",
    "print(\" shape of u \", u.shape)\n",
    "print(\" dt is \", dt, \" dx is \", dx)"
   ]
  },
  {
   "cell_type": "markdown",
   "metadata": {},
   "source": [
    "# Create the design matrix"
   ]
  },
  {
   "cell_type": "code",
   "execution_count": 3,
   "metadata": {},
   "outputs": [
    {
     "name": "stdout",
     "output_type": "stream",
     "text": [
      " The value of D is changed to 4  4\n",
      " length of description  20\n",
      "i : 1 u\n",
      "i : 2 u^2\n",
      "i : 3 u^3\n",
      "i : 4 u_{x}\n",
      "i : 5 uu_{x}\n",
      "i : 6 u^2u_{x}\n",
      "i : 7 u^3u_{x}\n",
      "i : 8 u_{xx}\n",
      "i : 9 uu_{xx}\n",
      "i : 10 u^2u_{xx}\n",
      "i : 11 u^3u_{xx}\n",
      "i : 12 u_{xxx}\n",
      "i : 13 uu_{xxx}\n",
      "i : 14 u^2u_{xxx}\n",
      "i : 15 u^3u_{xxx}\n",
      "i : 16 u_{xxxx}\n",
      "i : 17 uu_{xxxx}\n",
      "i : 18 u^2u_{xxxx}\n",
      "i : 19 u^3u_{xxxx}\n",
      " shape of the truncated description  19\n",
      "shape 19116 20\n",
      "shape of no_intercept (19116, 19)\n"
     ]
    },
    {
     "name": "stderr",
     "output_type": "stream",
     "text": [
      "/lustre/projects/jupyterhub/maddukon/Data_driven/Stability_selection_results /PDE-STRIDE/Iterative_solvers_l0_l1.py:35: ComplexWarning: Casting complex values to real discards the imaginary part\n",
      "  X_no_intercept[:,i-1] = X[:,i]\n"
     ]
    }
   ],
   "source": [
    "numpy.random.seed(0)\n",
    "noise_level = 0.01\n",
    "un = u + noise_level*std(u)*np.random.randn(u.shape[0],u.shape[1])\n",
    "\n",
    "#y, X, description = build_linear_system(u, dt, dx, D=4, P=3, time_diff = 'FD', space_diff = 'FD')\n",
    "# In this demo, we don't use SVD based denoising but simply use gaussian blur + polynomial differentiation\n",
    "y, X, description = build_linear_system(un, dt, dx, D=4, P=3, time_diff = 'poly', space_diff = 'poly',deg_x = 5, deg_t = 5, \n",
    "                                      width_x = 10, width_t = 10)\n",
    "print(\" length of description \", len(description))\n",
    "description_trunc, X_no_intercept = remove_intercept(X, description) # This step removes the constant column in the design\n",
    "u_t = y"
   ]
  },
  {
   "cell_type": "markdown",
   "metadata": {},
   "source": [
    "# Compute regularization path for a random sub-sample"
   ]
  },
  {
   "cell_type": "code",
   "execution_count": 4,
   "metadata": {},
   "outputs": [
    {
     "name": "stdout",
     "output_type": "stream",
     "text": [
      " lambda max is  [0.06333404]  lambda min is  [0.0071062]\n",
      " lambda max is  [1.]  lambda min is  [0.11220185]\n",
      " norm is  1805.231355509598\n"
     ]
    },
    {
     "name": "stderr",
     "output_type": "stream",
     "text": [
      "/sw/apps/python3/3.6.5/lib/python3.6/site-packages/ipykernel_launcher.py:13: ComplexWarning: Casting complex values to real discards the imaginary part\n",
      "  del sys.path[0]\n",
      "/lustre/projects/jupyterhub/maddukon/Data_driven/Stability_selection_results /PDE-STRIDE/Iterative_solvers_l0_l1.py:419: FutureWarning: `rcond` parameter will change to the default of machine precision times ``max(M, N)`` where M and N are the input matrix dimensions.\n",
      "To use the future default and silence this warning we advise to pass `rcond=None`, to keep using the old, explicitly pass `rcond=-1`.\n",
      "  if lam != 0: coeff[0,biginds] = np.linalg.lstsq(X[:, biginds].T.dot(X[:, biginds]) + lam*np.eye(len(biginds)),X[:, biginds].T.dot(y))[0].reshape(len(biginds),)\n"
     ]
    },
    {
     "name": "stdout",
     "output_type": "stream",
     "text": [
      " done with alpha  0\n",
      " converged at iteration  4  frac_iter  0.0  flag  1\n",
      " done with alpha  1\n",
      " converged at iteration  4  frac_iter  0.0  flag  1\n",
      " done with alpha  2\n",
      " converged at iteration  4  frac_iter  0.0  flag  1\n",
      " done with alpha  3\n",
      " converged at iteration  5  frac_iter  0.0  flag  1\n",
      " done with alpha  4\n",
      " converged at iteration  5  frac_iter  0.0  flag  1\n",
      " done with alpha  5\n",
      " converged at iteration  12  frac_iter  0.07692307692307693  flag  1\n",
      " done with alpha  6\n",
      " converged at iteration  10  frac_iter  0.09090909090909091  flag  1\n",
      " done with alpha  7\n",
      " converged at iteration  11  frac_iter  0.08333333333333333  flag  1\n",
      " done with alpha  8\n",
      " converged at iteration  11  frac_iter  0.08333333333333333  flag  1\n",
      " done with alpha  9\n",
      " converged at iteration  11  frac_iter  0.08333333333333333  flag  1\n",
      " done with alpha  10\n",
      " converged at iteration  14  frac_iter  0.06666666666666667  flag  1\n",
      " done with alpha  11\n",
      " converged at iteration  17  frac_iter  0.05555555555555555  flag  1\n",
      " done with alpha  12\n",
      " converged at iteration  16  frac_iter  0.058823529411764705  flag  1\n",
      " done with alpha  13\n",
      " converged at iteration  23  frac_iter  0.041666666666666664  flag  1\n",
      " done with alpha  14\n",
      " converged at iteration  24  frac_iter  0.04  flag  1\n",
      " done with alpha  15\n",
      " converged at iteration  27  frac_iter  0.03571428571428571  flag  1\n",
      " done with alpha  16\n",
      " converged at iteration  29  frac_iter  0.03333333333333333  flag  1\n",
      " done with alpha  17\n",
      " converged at iteration  31  frac_iter  0.03125  flag  1\n",
      " done with alpha  18\n",
      " converged at iteration  32  frac_iter  0.030303030303030304  flag  1\n",
      " done with alpha  19\n"
     ]
    }
   ],
   "source": [
    "np.random.seed(50)\n",
    "reduced_size = 200\n",
    "ordered = np.arange(0, len(u_t))\n",
    "np.random.shuffle(ordered)\n",
    "\n",
    "X_reduced = np.zeros((reduced_size, len(description_trunc))) # random sub-sample from the design matrix\n",
    "y_reduced = np.zeros((reduced_size,1))                       # random sub-sample from the measurement vector\n",
    "X_stand   = np.zeros((reduced_size, len(description_trunc))) # standardized sub-design matrix\n",
    "y_stand   = np.zeros((reduced_size,1))                       # standardized sub-measurement vector\n",
    "\n",
    "for i in range(0, reduced_size):\n",
    "    X_reduced[i,:] = X_no_intercept[int(ordered[i]),:]\n",
    "    y_reduced[i,:] = u_t[int(ordered[i])]\n",
    "\n",
    "X_stand = preprocessing.scale(X_reduced)\n",
    "y_stand = preprocessing.scale(y_reduced, with_std=False)\n",
    "y_stand = y_stand.reshape(reduced_size,1)\n",
    "\n",
    "mul_vector = np.matmul(X_stand.transpose(), y_stand)     \n",
    "lambda_max = (1.0/reduced_size)*np.linalg.norm(mul_vector, np.inf)  # lambda_{max} in paper \n",
    "M             = 20 # M in the paper\n",
    "factor        = np.exp(np.log(10.)/M)\n",
    "lambda_regl   = np.zeros((M,1))\n",
    "coeff_alpha   = np.zeros((len(description_trunc),M)) # stores the output\n",
    "\n",
    "alphas_regl = np.zeros((M,1))\n",
    "for alpha in range(0, M):\n",
    "    alphas_regl[alpha] = lambda_max/factor**alpha\n",
    "    \n",
    "normalized_alphas_sample = np.zeros((M,))\n",
    "normalized_alphas_sample = alphas_regl/alphas_regl[0]\n",
    "neg_log_stable_lambda = -np.log10(normalized_alphas_sample)\n",
    "\n",
    "print(\" lambda max is \", alphas_regl[0], \" lambda min is \", alphas_regl[M-1])\n",
    "print(\" lambda max is \", normalized_alphas_sample[0], \" lambda min is \", normalized_alphas_sample[M-1])\n",
    "\n",
    "p = X_stand.shape[1]\n",
    "coefs_lasso   = np.zeros((p, M))\n",
    "coefs_ihtd    = np.zeros((p, M))\n",
    "coefs_STR     = np.zeros((p, M))\n",
    "\n",
    "print(\" norm is \", np.linalg.norm(X_stand.T.dot(X_stand),2))\n",
    "\n",
    "for alpha in range(0, M):\n",
    "    clf_l = linear_model.Lasso(alphas_regl[alpha], fit_intercept=False, max_iter=10000, tol=1e-8) #L1\n",
    "    clf_l.fit(X_stand,y_stand)\n",
    "    coefs_lasso[:,alpha] = clf_l.coef_\n",
    "        \n",
    "    clf_ihtd = Iterative_hard_thresholding_debias(X_stand, y_stand, alphas_regl[alpha], max_iter=10000, sub_iter=25, tol=1e-8, htp_flag = 1, print_flag=True)\n",
    "    coefs_ihtd[:, alpha] = clf_ihtd[:]\n",
    "    \n",
    "    clf_STR = STRidge(X_stand, y_stand, alphas_regl[alpha], lam = 10**-5, max_iter=10000)\n",
    "    coefs_STR[:,alpha] = clf_STR[:]\n",
    "\n",
    "    print(\" done with alpha \", alpha)"
   ]
  },
  {
   "cell_type": "code",
   "execution_count": 5,
   "metadata": {},
   "outputs": [
    {
     "data": {
      "text/plain": [
       "Text(0.5,0,' $ -log(\\\\lambda^{*}) $')"
      ]
     },
     "execution_count": 5,
     "metadata": {},
     "output_type": "execute_result"
    },
    {
     "data": {
      "image/png": "[encoded data removed]",
      "text/plain": [
       "<Figure size 1152x288 with 3 Axes>"
      ]
     },
     "metadata": {},
     "output_type": "display_data"
    }
   ],
   "source": [
    "pylab.rcParams['figure.figsize'] = (16, 4.)\n",
    "covar_1 = 4 # advection term\n",
    "covar_2 = 7 # diffusion term\n",
    "\n",
    "plt.subplot(1,3,1)\n",
    "for i in range(0, p):\n",
    "    if(i == covar_1):\n",
    "        plt.plot(neg_log_stable_lambda, coefs_lasso[i,:],'-d',color=c[19])\n",
    "    elif(i == covar_2):\n",
    "        plt.plot(neg_log_stable_lambda, coefs_lasso[i,:],'-s',color=c[11])\n",
    "    else:\n",
    "        plt.plot(neg_log_stable_lambda, coefs_lasso[i,:],'--',color='black')\n",
    "plt.xlabel(\" $ -log(\\lambda^{*}) $\")\n",
    "plt.ylabel(\"  coefficients \")\n",
    "        \n",
    "plt.subplot(1,3,2)\n",
    "for i in range(0, p):\n",
    "    if(i == covar_1):\n",
    "        plt.plot(neg_log_stable_lambda, coefs_ihtd[i,:],'-d',color=c[19])\n",
    "    elif(i == covar_2):\n",
    "        plt.plot(neg_log_stable_lambda, coefs_ihtd[i,:],'-s',color=c[11])\n",
    "    else:\n",
    "        plt.plot(neg_log_stable_lambda, coefs_ihtd[i,:],'--',color='black')\n",
    "plt.xlabel(\" $ -log(\\lambda^{*}) $\")\n",
    "        \n",
    "plt.subplot(1,3,3)\n",
    "for i in range(0, p):\n",
    "    if(i == covar_1):\n",
    "        plt.plot(neg_log_stable_lambda, coefs_STR[i,:],'-d',color=c[19])\n",
    "    elif(i == covar_2):\n",
    "        plt.plot(neg_log_stable_lambda, coefs_STR[i,:],'-s',color=c[11])\n",
    "    else:\n",
    "        plt.plot(neg_log_stable_lambda, coefs_STR[i,:],'--',color='black')\n",
    "        \n",
    "plt.rcParams.update({'font.size': 12})\n",
    "plt.xlabel(\" $ -log(\\lambda^{*}) $\")"
   ]
  },
  {
   "cell_type": "markdown",
   "metadata": {},
   "source": [
    "## Stability selection"
   ]
  },
  {
   "cell_type": "code",
   "execution_count": null,
   "metadata": {
    "scrolled": true
   },
   "outputs": [
    {
     "name": "stderr",
     "output_type": "stream",
     "text": [
      "/lustre/projects/jupyterhub/maddukon/Data_driven/Stability_selection_results /PDE-STRIDE/Iterative_solvers_l0_l1.py:453: ComplexWarning: Casting complex values to real discards the imaginary part\n",
      "  y_reduced[i]   = y[int(ordered_reduced[i])]  # changed\n",
      "/lustre/projects/jupyterhub/maddukon/Data_driven/Stability_selection_results /PDE-STRIDE/Iterative_solvers_l0_l1.py:419: FutureWarning: `rcond` parameter will change to the default of machine precision times ``max(M, N)`` where M and N are the input matrix dimensions.\n",
      "To use the future default and silence this warning we advise to pass `rcond=None`, to keep using the old, explicitly pass `rcond=-1`.\n",
      "  if lam != 0: coeff[0,biginds] = np.linalg.lstsq(X[:, biginds].T.dot(X[:, biginds]) + lam*np.eye(len(biginds)),X[:, biginds].T.dot(y))[0].reshape(len(biginds),)\n"
     ]
    },
    {
     "name": "stdout",
     "output_type": "stream",
     "text": [
      " done with sample  0  size  1500\n",
      " done with sample  5  size  1500\n",
      " done with sample  10  size  1500\n",
      " done with sample  15  size  1500\n",
      " done with sample  20  size  1500\n",
      " done with sample  25  size  1500\n",
      " done with sample  30  size  1500\n",
      " done with sample  35  size  1500\n",
      " done with sample  40  size  1500\n",
      " done with sample  45  size  1500\n",
      " done with sample  50  size  1500\n",
      " done with sample  55  size  1500\n",
      " done with sample  60  size  1500\n",
      " done with sample  65  size  1500\n"
     ]
    }
   ],
   "source": [
    "B = 100; reduced_size = 1500; rescale = 1;\n",
    "subsample_info_lasso, subsample_info_iht_d, \\\n",
    "            subsample_info_STR, alphas_sample = stability_selection(X_no_intercept, u_t, reduced_size, M, B, rescale)"
   ]
  },
  {
   "cell_type": "code",
   "execution_count": null,
   "metadata": {},
   "outputs": [],
   "source": [
    "covar_1 =  4#PP + 1\n",
    "covar_2 =  7#2*PP + 1\n",
    "\n",
    "normalized_alphas_sample = np.zeros((B, M))\n",
    "for sample in range(0, B):\n",
    "    normalized_alphas_sample[sample,:] = alphas_sample[sample,:]/alphas_sample[sample,0]\n",
    "neg_log_stable_lambda = -np.log10(normalized_alphas_sample[0,:])\n",
    "\n",
    "importance_plot = np.zeros((p, M))\n",
    "for alpha in range(0, M):\n",
    "    for i in range(0, p):\n",
    "        for sample in range(0, B):\n",
    "            if(subsample_info_lasso[sample, i, alpha] != 0):\n",
    "                importance_plot[i,alpha] = importance_plot[i,alpha] + 1\n",
    "\n",
    "        importance_plot[i,alpha] = importance_plot[i,alpha]/B\n",
    "\n",
    "plt.subplot(1,3,1)\n",
    "for i in range(0, p):\n",
    "    if(i == covar_1 ):\n",
    "        plt.plot(neg_log_stable_lambda, importance_plot[i,:], '-d',color=c[19],label='$cov = %s$' %description_trunc[i])\n",
    "    elif(i == covar_2):\n",
    "        plt.plot(neg_log_stable_lambda, importance_plot[i,:], '-s', color=c[11],label='$cov = %s$' %description_trunc[i])\n",
    "    else:\n",
    "        plt.plot(neg_log_stable_lambda, importance_plot[i,:], '--', color='black')\n",
    "\n",
    "\n",
    "plt.rcParams.update({'font.size': 12})\n",
    "plt.title(\" lasso \")\n",
    "plt.xlabel(\" $ -log(\\lambda^{*}) $ \")\n",
    "plt.ylabel(\" $ \\Pi $\")\n",
    "plt.ylim(0, 1.05)  \n",
    "plt.legend(loc='best', prop={'size':13})\n",
    "plt.text(0.3, 0.85,'$\\pi_{th}=0.8$',color='red')\n",
    "plt.axhline(y=0.8, color='r', linestyle='-')\n",
    "pylab.rcParams['figure.figsize'] = (15, 7.5)\n",
    "\n",
    "importance_plot = np.zeros((p, M))\n",
    "for alpha in range(0, M):\n",
    "    for i in range(0, p):\n",
    "        for sample in range(0, B):\n",
    "            if(subsample_info_iht_d[sample, i, alpha] != 0):\n",
    "                importance_plot[i,alpha] = importance_plot[i,alpha] + 1\n",
    "\n",
    "        importance_plot[i,alpha] = importance_plot[i,alpha]/B\n",
    "\n",
    "plt.subplot(1,3,2)\n",
    "for i in range(0, p):\n",
    "    if(i == covar_1 ):\n",
    "        plt.plot(neg_log_stable_lambda, importance_plot[i,:], '-d',color=c[19],label='$cov = %s$' %description_trunc[i])\n",
    "    elif(i == covar_2):\n",
    "        plt.plot(neg_log_stable_lambda, importance_plot[i,:], '-s', color=c[11],label='$cov = %s$' %description_trunc[i])\n",
    "    else:\n",
    "        plt.plot(neg_log_stable_lambda, importance_plot[i,:], '--', color='black')\n",
    "        \n",
    "plt.rcParams.update({'font.size': 12})\n",
    "plt.title(\" Iterative hardthresholding with debias (IHT-d) \")\n",
    "plt.xlabel(\" $ -log(\\lambda^{*}) $ \")\n",
    "plt.ylabel(\" $ \\Pi $\")\n",
    "plt.ylim(0, 1.05)  \n",
    "plt.legend(loc='best', prop={'size':13})\n",
    "plt.text(0.8, 0.85,'$\\pi_{th}=0.8$',color='red')\n",
    "plt.axhline(y=0.8, color='r', linestyle='-')\n",
    "pylab.rcParams['figure.figsize'] = (15, 7.5)\n",
    "\n",
    "importance_plot = np.zeros((p, M))\n",
    "for alpha in range(0, M):\n",
    "    for i in range(0, p):\n",
    "        for sample in range(0, B):\n",
    "            if(subsample_info_STR[sample, i, alpha] != 0):\n",
    "                importance_plot[i,alpha] = importance_plot[i,alpha] + 1\n",
    "\n",
    "        importance_plot[i,alpha] = importance_plot[i,alpha]/B\n",
    "\n",
    "plt.subplot(1,3,3)\n",
    "for i in range(0, p):\n",
    "    if(i == covar_1 ):\n",
    "        plt.plot(neg_log_stable_lambda, importance_plot[i,:], '-d',color=c[19],label='$%s$' %description_trunc[i])\n",
    "    elif(i == covar_2):\n",
    "        plt.plot(neg_log_stable_lambda, importance_plot[i,:], '-s', color=c[11],label='$%s$' %description_trunc[i])\n",
    "    else:\n",
    "        plt.plot(neg_log_stable_lambda, importance_plot[i,:], '--', color='black')\n",
    "        \n",
    "\n",
    "plt.rcParams.update({'font.size': 12})\n",
    "plt.title(\" STRidge \")\n",
    "plt.xlabel(\" $ -log(\\lambda^{*}) $ \")\n",
    "plt.ylabel(\" $ \\pi $\")\n",
    "plt.ylim(0, 1.05)  \n",
    "plt.text(0.2, 0.85,'$ \\sigma =0.8$', color='red')\n",
    "plt.legend(loc='best', prop={'size':13})\n",
    "plt.axhline(y=0.8, color='r', linestyle='-')\n",
    "pylab.rcParams['figure.figsize'] = (17, 5)"
   ]
  },
  {
   "cell_type": "code",
   "execution_count": null,
   "metadata": {},
   "outputs": [],
   "source": []
  }
 ],
 "metadata": {
  "anaconda-cloud": {},
  "kernelspec": {
   "display_name": "Python 3",
   "language": "python",
   "name": "python3"
  },
  "language_info": {
   "codemirror_mode": {
    "name": "ipython",
    "version": 3
   },
   "file_extension": ".py",
   "mimetype": "text/x-python",
   "name": "python",
   "nbconvert_exporter": "python",
   "pygments_lexer": "ipython3",
   "version": "3.6.5"
  }
 },
 "nbformat": 4,
 "nbformat_minor": 1
}
